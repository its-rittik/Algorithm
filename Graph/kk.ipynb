{
 "cells": [
  {
   "cell_type": "code",
   "execution_count": null,
   "metadata": {},
   "outputs": [],
   "source": [
    "class Student:\n",
    "    total_students = 0\n",
    "\n",
    "    def __init__(self, name, student_id, age):\n",
    "        self.name = name\n",
    "        self.student_id = student_id\n",
    "        self.age = age\n",
    "        Student.total_students += 1\n",
    "\n",
    "    def print_info(self):\n",
    "        print(\"Name: {}, ID: {}, Age: {}\".format(self.name, self.student_id, self.age))\n",
    "\n",
    "\n",
    "def main():\n",
    "    print(\"Press Enter to finish.\")\n",
    "    while True:\n",
    "        name = input(\"Enter your name (or press Enter to finish): \")\n",
    "        if name == \"\":\n",
    "            break\n",
    "        student_id = input(\"Enter your id: \")\n",
    "        age = int(input(\"Enter your age: \"))\n",
    "        student = Student(name, student_id, age)\n",
    "        student.print_info()\n",
    "\n",
    "    print(\"Total students: {}\".format(Student.total_students))\n",
    "\n",
    "\n",
    "main()\n"
   ]
  },
  {
   "cell_type": "code",
   "execution_count": 1,
   "metadata": {},
   "outputs": [
    {
     "name": "stdout",
     "output_type": "stream",
     "text": [
      "Name: Rittik, ID: 6289\n",
      "Age: 22\n"
     ]
    }
   ],
   "source": [
    "class Student:\n",
    "    def __init__(self, student_name, student_id, student_age):\n",
    "        self.student_name = student_name\n",
    "        self.student_id = student_id\n",
    "        self.student_age = student_age\n",
    "\n",
    "    def set_age(self, new_age):\n",
    "        self.student_age = new_age\n",
    "\n",
    "    def get_age(self):\n",
    "        return self.student_age\n",
    "\n",
    "    def print_info(self):\n",
    "        print(\"Name: {}, ID: {}\".format(self.student_name, self.student_id))\n",
    "\n",
    "\n",
    "student = Student(\"Rittik\", 6289, 22)\n",
    "student.print_info()\n",
    "print(\"Age: {}\".format(student.get_age()))\n"
   ]
  }
 ],
 "metadata": {
  "kernelspec": {
   "display_name": "Python 3",
   "language": "python",
   "name": "python3"
  },
  "language_info": {
   "codemirror_mode": {
    "name": "ipython",
    "version": 3
   },
   "file_extension": ".py",
   "mimetype": "text/x-python",
   "name": "python",
   "nbconvert_exporter": "python",
   "pygments_lexer": "ipython3",
   "version": "3.11.9"
  }
 },
 "nbformat": 4,
 "nbformat_minor": 2
}
